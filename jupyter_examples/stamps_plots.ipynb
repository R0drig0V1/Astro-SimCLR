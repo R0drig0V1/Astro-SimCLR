{
 "cells": [
  {
   "cell_type": "code",
   "execution_count": 1,
   "metadata": {},
   "outputs": [],
   "source": [
    "import csv\n",
    "import sys\n",
    "import pickle\n",
    "\n",
    "import numpy as np\n",
    "import matplotlib.pyplot as plt\n",
    "import pandas as pd\n",
    "\n",
    "from PIL import Image"
   ]
  },
  {
   "cell_type": "code",
   "execution_count": 2,
   "metadata": {},
   "outputs": [],
   "source": [
    "sys.path.append('../utils')\n",
    "from utils_dataset import dataset_structure, img_float2int, feature_names, label_names\n",
    "from utils_plots import stamps_plot"
   ]
  },
  {
   "cell_type": "code",
   "execution_count": 3,
   "metadata": {},
   "outputs": [
    {
     "name": "stdout",
     "output_type": "stream",
     "text": [
      "-Train:\n",
      "\t-images    N=72710     Type:ndarray\t-->\tType:ndarray   Shape:(63, 63, 3)\n",
      "\t-labels    N=72710     Type:ndarray\t-->\tType:int64     Shape:Non-ndarray\n",
      "\t-features  N=72710     Type:ndarray\t-->\tType:ndarray   Shape:(26,)     \n",
      "-Validation:\n",
      "\t-images    N=500       Type:ndarray\t-->\tType:ndarray   Shape:(63, 63, 3)\n",
      "\t-labels    N=500       Type:ndarray\t-->\tType:int64     Shape:Non-ndarray\n",
      "\t-features  N=500       Type:ndarray\t-->\tType:ndarray   Shape:(26,)     \n",
      "-Test:\n",
      "\t-images    N=500       Type:ndarray\t-->\tType:ndarray   Shape:(63, 63, 3)\n",
      "\t-labels    N=500       Type:ndarray\t-->\tType:int64     Shape:Non-ndarray\n",
      "\t-features  N=500       Type:ndarray\t-->\tType:ndarray   Shape:(26,)     \n"
     ]
    }
   ],
   "source": [
    "# Dataset is loaded\n",
    "with open('../dataset/td_ztf_stamp_17_06_20.pkl', 'rb') as f:\n",
    "    data = pickle.load(f)\n",
    "\n",
    "# Inner structure of dataset\n",
    "dataset_structure(data)"
   ]
  },
  {
   "cell_type": "code",
   "execution_count": 4,
   "metadata": {},
   "outputs": [
    {
     "name": "stdout",
     "output_type": "stream",
     "text": [
      "Label: Bogus\n"
     ]
    },
    {
     "data": {
      "image/png": "[encoded data removed]",
      "text/plain": [
       "<Figure size 1080x1080 with 3 Axes>"
      ]
     },
     "metadata": {
      "needs_background": "light"
     },
     "output_type": "display_data"
    },
    {
     "data": {
      "text/html": [
       "<div>\n",
       "<style scoped>\n",
       "    .dataframe tbody tr th:only-of-type {\n",
       "        vertical-align: middle;\n",
       "    }\n",
       "\n",
       "    .dataframe tbody tr th {\n",
       "        vertical-align: top;\n",
       "    }\n",
       "\n",
       "    .dataframe thead th {\n",
       "        text-align: right;\n",
       "    }\n",
       "</style>\n",
       "<table border=\"1\" class=\"dataframe\">\n",
       "  <thead>\n",
       "    <tr style=\"text-align: right;\">\n",
       "      <th></th>\n",
       "      <th>Feature</th>\n",
       "      <th>Value</th>\n",
       "    </tr>\n",
       "  </thead>\n",
       "  <tbody>\n",
       "    <tr>\n",
       "      <th>0</th>\n",
       "      <td>sgscore_1</td>\n",
       "      <td>-0.64196</td>\n",
       "    </tr>\n",
       "    <tr>\n",
       "      <th>1</th>\n",
       "      <td>sgscore_2</td>\n",
       "      <td>1.144819</td>\n",
       "    </tr>\n",
       "    <tr>\n",
       "      <th>2</th>\n",
       "      <td>sgscore_3</td>\n",
       "      <td>-0.8268</td>\n",
       "    </tr>\n",
       "    <tr>\n",
       "      <th>3</th>\n",
       "      <td>distpsnr_1</td>\n",
       "      <td>0.0</td>\n",
       "    </tr>\n",
       "    <tr>\n",
       "      <th>4</th>\n",
       "      <td>distpsnr_2</td>\n",
       "      <td>-0.34237</td>\n",
       "    </tr>\n",
       "    <tr>\n",
       "      <th>5</th>\n",
       "      <td>distpsnr_3</td>\n",
       "      <td>-1.469279</td>\n",
       "    </tr>\n",
       "    <tr>\n",
       "      <th>6</th>\n",
       "      <td>isdiffpos</td>\n",
       "      <td>-1.594562</td>\n",
       "    </tr>\n",
       "    <tr>\n",
       "      <th>7</th>\n",
       "      <td>fwhm</td>\n",
       "      <td>-0.911407</td>\n",
       "    </tr>\n",
       "    <tr>\n",
       "      <th>8</th>\n",
       "      <td>magpsf</td>\n",
       "      <td>-0.968328</td>\n",
       "    </tr>\n",
       "    <tr>\n",
       "      <th>9</th>\n",
       "      <td>sigmapsf</td>\n",
       "      <td>-1.156865</td>\n",
       "    </tr>\n",
       "    <tr>\n",
       "      <th>10</th>\n",
       "      <td>RA</td>\n",
       "      <td>1.224844</td>\n",
       "    </tr>\n",
       "    <tr>\n",
       "      <th>11</th>\n",
       "      <td>DEC</td>\n",
       "      <td>-0.617055</td>\n",
       "    </tr>\n",
       "    <tr>\n",
       "      <th>12</th>\n",
       "      <td>diffmaglim</td>\n",
       "      <td>0.525182</td>\n",
       "    </tr>\n",
       "    <tr>\n",
       "      <th>13</th>\n",
       "      <td>classtar</td>\n",
       "      <td>0.622005</td>\n",
       "    </tr>\n",
       "    <tr>\n",
       "      <th>14</th>\n",
       "      <td>ndethist</td>\n",
       "      <td>-0.662951</td>\n",
       "    </tr>\n",
       "    <tr>\n",
       "      <th>15</th>\n",
       "      <td>ncovhist</td>\n",
       "      <td>-0.321317</td>\n",
       "    </tr>\n",
       "    <tr>\n",
       "      <th>16</th>\n",
       "      <td>chinr</td>\n",
       "      <td>-1.710387</td>\n",
       "    </tr>\n",
       "    <tr>\n",
       "      <th>17</th>\n",
       "      <td>sharpnr</td>\n",
       "      <td>-0.76836</td>\n",
       "    </tr>\n",
       "    <tr>\n",
       "      <th>18</th>\n",
       "      <td>Ecliptic coordinates RA</td>\n",
       "      <td>-0.67176</td>\n",
       "    </tr>\n",
       "    <tr>\n",
       "      <th>19</th>\n",
       "      <td>Ecliptic coordinates DEC</td>\n",
       "      <td>0.828848</td>\n",
       "    </tr>\n",
       "    <tr>\n",
       "      <th>20</th>\n",
       "      <td>Galactic coordinates RA</td>\n",
       "      <td>-0.306403</td>\n",
       "    </tr>\n",
       "    <tr>\n",
       "      <th>21</th>\n",
       "      <td>Galactic coordinates DEC</td>\n",
       "      <td>0.049723</td>\n",
       "    </tr>\n",
       "    <tr>\n",
       "      <th>22</th>\n",
       "      <td>approx non-detections</td>\n",
       "      <td>-0.061027</td>\n",
       "    </tr>\n",
       "  </tbody>\n",
       "</table>\n",
       "</div>"
      ],
      "text/plain": [
       "                     Feature     Value\n",
       "0                  sgscore_1  -0.64196\n",
       "1                  sgscore_2  1.144819\n",
       "2                  sgscore_3   -0.8268\n",
       "3                 distpsnr_1       0.0\n",
       "4                 distpsnr_2  -0.34237\n",
       "5                 distpsnr_3 -1.469279\n",
       "6                  isdiffpos -1.594562\n",
       "7                       fwhm -0.911407\n",
       "8                     magpsf -0.968328\n",
       "9                   sigmapsf -1.156865\n",
       "10                        RA  1.224844\n",
       "11                       DEC -0.617055\n",
       "12                diffmaglim  0.525182\n",
       "13                  classtar  0.622005\n",
       "14                  ndethist -0.662951\n",
       "15                  ncovhist -0.321317\n",
       "16                     chinr -1.710387\n",
       "17                   sharpnr  -0.76836\n",
       "18   Ecliptic coordinates RA  -0.67176\n",
       "19  Ecliptic coordinates DEC  0.828848\n",
       "20   Galactic coordinates RA -0.306403\n",
       "21  Galactic coordinates DEC  0.049723\n",
       "22     approx non-detections -0.061027"
      ]
     },
     "metadata": {},
     "output_type": "display_data"
    }
   ],
   "source": [
    "stamps_plot(data, 'Train', 11)"
   ]
  },
  {
   "cell_type": "code",
   "execution_count": 6,
   "metadata": {},
   "outputs": [
    {
     "data": {
      "text/plain": [
       "(-0.5, 20.5, 20.5, -0.5)"
      ]
     },
     "execution_count": 6,
     "metadata": {},
     "output_type": "execute_result"
    },
    {
     "data": {
      "image/png": "[encoded data removed]",
      "text/plain": [
       "<Figure size 1080x1080 with 2 Axes>"
      ]
     },
     "metadata": {
      "needs_background": "light"
     },
     "output_type": "display_data"
    }
   ],
   "source": [
    "# Example of image resizing \n",
    "\n",
    "# Load image\n",
    "index = 11\n",
    "img = data['Train']['images'][index][:,:,0]\n",
    "\n",
    "# New size\n",
    "size = (21,21)\n",
    "\n",
    "# Escalation from (0,1) to (0, 255)\n",
    "img_255 = img_float2int(img)\n",
    "\n",
    "# Resize\n",
    "img_PIL = Image.fromarray(img_255)\n",
    "img_resize = img_PIL.resize(size)\n",
    "\n",
    "# Plot of science image (63x63 and 21x21)\n",
    "fig, (ax1, ax2) = plt.subplots(1, 2, figsize=(15,15))\n",
    "    \n",
    "ax1.set_title(\"Science 63x63\")\n",
    "ax1.imshow(img)\n",
    "ax1.axis('off')\n",
    "\n",
    "ax2.set_title(\"Science {0}x{1}\".format(size[0],size[1]))\n",
    "ax2.imshow(img_resize)\n",
    "ax2.axis('off')"
   ]
  },
  {
   "cell_type": "code",
   "execution_count": null,
   "metadata": {},
   "outputs": [],
   "source": [
    "# Reduced dataset is loaded\n",
    "#with open('../dataset/td_ztf_stamp_17_07_20_(21).pkl', 'rb') as f:\n",
    "#    data_red = pickle.load(f)\n",
    "\n",
    "# Inner structure of dataset\n",
    "#dataset_structure(data_red)"
   ]
  },
  {
   "cell_type": "code",
   "execution_count": null,
   "metadata": {},
   "outputs": [],
   "source": [
    "#stamps_plot(data_red, 'Train', 11)"
   ]
  }
 ],
 "metadata": {
  "kernelspec": {
   "display_name": "Python 3 (ipykernel)",
   "language": "python",
   "name": "python3"
  },
  "language_info": {
   "codemirror_mode": {
    "name": "ipython",
    "version": 3
   },
   "file_extension": ".py",
   "mimetype": "text/x-python",
   "name": "python",
   "nbconvert_exporter": "python",
   "pygments_lexer": "ipython3",
   "version": "3.8.10"
  }
 },
 "nbformat": 4,
 "nbformat_minor": 4
}
